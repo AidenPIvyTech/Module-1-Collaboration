{
 "cells": [
  {
   "cell_type": "code",
   "execution_count": 19,
   "metadata": {},
   "outputs": [
    {
     "name": "stdout",
     "output_type": "stream",
     "text": [
      "3600\n",
      "3600\n",
      "86400\n",
      "seconds_per_day: 3600\n",
      "24.0\n",
      "24\n"
     ]
    }
   ],
   "source": [
    "#1\n",
    "print(60 * 60)\n",
    "\n",
    "#2\n",
    "seconds_per_hour = 3600\n",
    "print(seconds_per_hour)\n",
    "\n",
    "#3\n",
    "print(seconds_per_hour * 24)\n",
    "\n",
    "#4\n",
    "seconds_per_day = seconds_per_hour * 24\n",
    "print(str(\"seconds_per_day: \" + str(seconds_per_hour)))\n",
    "\n",
    "#5\n",
    "print(seconds_per_day / seconds_per_hour)\n",
    "\n",
    "#6\n",
    "print(seconds_per_day // seconds_per_hour)\n",
    "#Yes, the quotiant from number 5 and 6 "
   ]
  },
  {
   "cell_type": "code",
   "execution_count": 4,
   "metadata": {},
   "outputs": [
    {
     "name": "stdout",
     "output_type": "stream",
     "text": [
      "3600\n"
     ]
    }
   ],
   "source": []
  },
  {
   "cell_type": "code",
   "execution_count": null,
   "metadata": {},
   "outputs": [],
   "source": []
  }
 ],
 "metadata": {
  "kernelspec": {
   "display_name": "Python 3 (ipykernel)",
   "language": "python",
   "name": "python3"
  },
  "language_info": {
   "codemirror_mode": {
    "name": "ipython",
    "version": 3
   },
   "file_extension": ".py",
   "mimetype": "text/x-python",
   "name": "python",
   "nbconvert_exporter": "python",
   "pygments_lexer": "ipython3",
   "version": "3.13.5"
  }
 },
 "nbformat": 4,
 "nbformat_minor": 4
}
